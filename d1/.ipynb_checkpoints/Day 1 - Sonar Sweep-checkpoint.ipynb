{
 "cells": [
  {
   "cell_type": "markdown",
   "metadata": {},
   "source": [
    "# AOC 2021:  Day 1 - Sonar Sweep"
   ]
  },
  {
   "cell_type": "markdown",
   "metadata": {},
   "source": [
    "# Part 1\n",
    "\n",
    "As the submarine drops below the surface of the ocean, it automatically performs a sonar sweep of the nearby sea floor. On a small screen, the sonar sweep report (your puzzle input) appears: each line is a measurement of the sea floor depth as the sweep looks further and further away from the submarine.\n",
    "\n",
    "This report indicates that, scanning outward from the submarine, the sonar sweep found depths of 199, 200, 208, 210, and so on.\n",
    "\n",
    "This report indicates that, scanning outward from the submarine, the sonar sweep found depths of 199, 200, 208, 210, and so on.\n",
    "\n",
    "The first order of business is to figure out how quickly the depth increases, just so you know what you're dealing with - you never know if the keys will get carried into deeper water by an ocean current or a fish or something.\n",
    "\n",
    "To do this, count the number of times a depth measurement increases from the previous measurement. (There is no measurement before the first measurement.) In the example above, the changes are as follows:\n",
    "\n",
    "* 199 (N/A - no previous measurement)\n",
    "* 200 (increased)\n",
    "* 208 (increased)\n",
    "* 210 (increased)\n",
    "* 200 (decreased)\n",
    "* 207 (increased)\n",
    "* 240 (increased)\n",
    "* 269 (increased)\n",
    "* 260 (decreased)\n",
    "* 263 (increased)\n",
    "\n",
    "In this example, there are 7 measurements that are larger than the previous measurement.\n",
    "\n",
    "<b>How many measurements are larger than the previous measurement?</b>"
   ]
  },
  {
   "cell_type": "code",
   "execution_count": 1,
   "metadata": {},
   "outputs": [],
   "source": [
    "# dependencies\n",
    "import pandas as pd\n",
    "import numpy as np"
   ]
  },
  {
   "cell_type": "code",
   "execution_count": 2,
   "metadata": {},
   "outputs": [
    {
     "name": "stdout",
     "output_type": "stream",
     "text": [
      "dataframe length: 2000\n",
      "list length: 2000\n"
     ]
    },
    {
     "data": {
      "text/plain": [
       "[191, 185, 188, 189, 204]"
      ]
     },
     "execution_count": 2,
     "metadata": {},
     "output_type": "execute_result"
    }
   ],
   "source": [
    "# import\n",
    "df = pd.read_csv('data/d11.csv', header=None, names=['entries'])\n",
    "print(f'dataframe length: {len(df)}')\n",
    "ls = df['entries'].tolist()\n",
    "print(f'list length: {len(ls)}')\n",
    "ls[0:5]"
   ]
  },
  {
   "cell_type": "code",
   "execution_count": 3,
   "metadata": {},
   "outputs": [],
   "source": [
    "# enumerate list and handle final index\n",
    "def looper(inputlist):\n",
    "    x = 0\n",
    "    for index, elem in enumerate(inputlist):\n",
    "        try:\n",
    "            if inputlist[index+1]>elem:\n",
    "                x += 1\n",
    "        except IndexError:\n",
    "            print('out of range')\n",
    "    return x"
   ]
  },
  {
   "cell_type": "code",
   "execution_count": 4,
   "metadata": {},
   "outputs": [
    {
     "name": "stdout",
     "output_type": "stream",
     "text": [
      "out of range\n",
      "1709\n"
     ]
    }
   ],
   "source": [
    "answer1 = looper(ls)\n",
    "print(answer1)"
   ]
  },
  {
   "cell_type": "markdown",
   "metadata": {},
   "source": [
    "# Part 2\n",
    "\n",
    "Your goal now is to count the number of times the sum of measurements in this sliding window increases from the previous sum. So, compare A with B, then compare B with C, then C with D, and so on. Stop when there aren't enough measurements left to create a new three-measurement sum.\n",
    "\n",
    "* 199  A      \n",
    "* 200  A B    \n",
    "* 208  A B C  \n",
    "* 210    B C D\n",
    "* 200  E   C D\n",
    "* 207  E F   D\n",
    "* 240  E F G  \n",
    "* 269    F G H\n",
    "* 260      G H\n",
    "* 263        H"
   ]
  },
  {
   "cell_type": "code",
   "execution_count": 5,
   "metadata": {},
   "outputs": [
    {
     "name": "stdout",
     "output_type": "stream",
     "text": [
      "out of range\n",
      "out of range\n"
     ]
    }
   ],
   "source": [
    "# create the sliding list\n",
    "slide_ls = []\n",
    "for index, elem in enumerate(ls):\n",
    "    try:\n",
    "        sums = ls[index]+ls[index+1]+ls[index+2]\n",
    "        slide_ls.append(sums)\n",
    "    except IndexError:\n",
    "        print('out of range')"
   ]
  },
  {
   "cell_type": "code",
   "execution_count": 6,
   "metadata": {},
   "outputs": [
    {
     "name": "stdout",
     "output_type": "stream",
     "text": [
      "length of summed list 1998\n",
      "length of the original list 2000\n",
      "first summed item = 564 and first three list items = 564\n"
     ]
    }
   ],
   "source": [
    "# check\n",
    "print(f'length of summed list {len(slide_ls)}')\n",
    "print(f'length of the original list {len(ls)}')\n",
    "print(f'first summed item = {slide_ls[0]} and first three list items = {ls[0]+ls[1]+ls[2]}')"
   ]
  },
  {
   "cell_type": "code",
   "execution_count": 7,
   "metadata": {},
   "outputs": [
    {
     "name": "stdout",
     "output_type": "stream",
     "text": [
      "out of range\n",
      "1761\n"
     ]
    }
   ],
   "source": [
    "answer2 = looper(slide_ls)\n",
    "print(answer2)"
   ]
  }
 ],
 "metadata": {
  "kernelspec": {
   "display_name": "Python 3",
   "language": "python",
   "name": "python3"
  },
  "language_info": {
   "codemirror_mode": {
    "name": "ipython",
    "version": 3
   },
   "file_extension": ".py",
   "mimetype": "text/x-python",
   "name": "python",
   "nbconvert_exporter": "python",
   "pygments_lexer": "ipython3",
   "version": "3.8.5"
  }
 },
 "nbformat": 4,
 "nbformat_minor": 4
}

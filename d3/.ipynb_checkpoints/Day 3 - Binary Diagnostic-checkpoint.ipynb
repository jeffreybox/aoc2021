{
 "cells": [
  {
   "cell_type": "markdown",
   "metadata": {},
   "source": [
    "# AOC 2021: Day 3 - Binary Diagnostic"
   ]
  },
  {
   "cell_type": "markdown",
   "metadata": {},
   "source": [
    "## Part 1\n",
    "\n",
    "The diagnostic report (your puzzle input) consists of a list of binary numbers which, when decoded properly, can tell you many useful things about the conditions of the submarine. The first parameter to check is the power consumption.\n",
    "\n",
    "You need to use the binary numbers in the diagnostic report to generate two new binary numbers (called the gamma rate and the epsilon rate). The power consumption can then be found by multiplying the gamma rate by the epsilon rate.\n",
    "\n",
    "Each bit in the gamma rate can be determined by finding the most common bit in the corresponding position of all numbers in the diagnostic report.\n",
    "\n",
    "The epsilon rate is calculated in a similar way; rather than use the most common bit, the least common bit from each position is used. So, the epsilon rate is 01001, or 9 in decimal. Multiplying the gamma rate (22) by the epsilon rate (9) produces the power consumption, 198.\n",
    "\n",
    "Use the binary numbers in your diagnostic report to calculate the gamma rate and epsilon rate, then multiply them together. What is the power consumption of the submarine? (Be sure to represent your answer in decimal, not binary.)"
   ]
  },
  {
   "cell_type": "code",
   "execution_count": 1,
   "metadata": {},
   "outputs": [],
   "source": [
    "# dependencies\n",
    "import pandas as pd\n",
    "import numpy as np"
   ]
  },
  {
   "cell_type": "code",
   "execution_count": 3,
   "metadata": {},
   "outputs": [
    {
     "name": "stdout",
     "output_type": "stream",
     "text": [
      "dataframe length: 1000\n"
     ]
    },
    {
     "data": {
      "text/html": [
       "<div>\n",
       "<style scoped>\n",
       "    .dataframe tbody tr th:only-of-type {\n",
       "        vertical-align: middle;\n",
       "    }\n",
       "\n",
       "    .dataframe tbody tr th {\n",
       "        vertical-align: top;\n",
       "    }\n",
       "\n",
       "    .dataframe thead th {\n",
       "        text-align: right;\n",
       "    }\n",
       "</style>\n",
       "<table border=\"1\" class=\"dataframe\">\n",
       "  <thead>\n",
       "    <tr style=\"text-align: right;\">\n",
       "      <th></th>\n",
       "      <th>data</th>\n",
       "    </tr>\n",
       "  </thead>\n",
       "  <tbody>\n",
       "    <tr>\n",
       "      <th>0</th>\n",
       "      <td>011110111101</td>\n",
       "    </tr>\n",
       "    <tr>\n",
       "      <th>1</th>\n",
       "      <td>110010010001</td>\n",
       "    </tr>\n",
       "    <tr>\n",
       "      <th>2</th>\n",
       "      <td>111011111111</td>\n",
       "    </tr>\n",
       "    <tr>\n",
       "      <th>3</th>\n",
       "      <td>110011010100</td>\n",
       "    </tr>\n",
       "    <tr>\n",
       "      <th>4</th>\n",
       "      <td>111100000011</td>\n",
       "    </tr>\n",
       "  </tbody>\n",
       "</table>\n",
       "</div>"
      ],
      "text/plain": [
       "           data\n",
       "0  011110111101\n",
       "1  110010010001\n",
       "2  111011111111\n",
       "3  110011010100\n",
       "4  111100000011"
      ]
     },
     "execution_count": 3,
     "metadata": {},
     "output_type": "execute_result"
    }
   ],
   "source": [
    "# import\n",
    "df = pd.read_csv('data/d3.csv', header=None, names=['data'], dtype={\"data\":\"string\"}) \n",
    "print(f'dataframe length: {len(df)}')\n",
    "df.head()"
   ]
  },
  {
   "cell_type": "code",
   "execution_count": 5,
   "metadata": {},
   "outputs": [
    {
     "name": "stdout",
     "output_type": "stream",
     "text": [
      "list length: 1000\n"
     ]
    },
    {
     "data": {
      "text/plain": [
       "['011110111101',\n",
       " '110010010001',\n",
       " '111011111111',\n",
       " '110011010100',\n",
       " '111100000011']"
      ]
     },
     "execution_count": 5,
     "metadata": {},
     "output_type": "execute_result"
    }
   ],
   "source": [
    "# create list\n",
    "ls = df['data'].tolist()\n",
    "print(f'list length: {len(ls)}')\n",
    "ls[0:5]"
   ]
  },
  {
   "cell_type": "code",
   "execution_count": 9,
   "metadata": {},
   "outputs": [
    {
     "name": "stdout",
     "output_type": "stream",
     "text": [
      "1000\n"
     ]
    }
   ],
   "source": [
    "# # check all strings are same length\n",
    "# lencheck = len(ls[0])\n",
    "# summer = 0\n",
    "# iterator = 0\n",
    "# for l in ls:\n",
    "#     if len(ls[iterator]) == lencheck:\n",
    "#         summer+=1\n",
    "#     iterator+=1\n",
    "# print(summer)"
   ]
  },
  {
   "cell_type": "code",
   "execution_count": 14,
   "metadata": {},
   "outputs": [
    {
     "name": "stdout",
     "output_type": "stream",
     "text": [
      "['1', '0', '1', '0', '0', '1', '0', '0', '1', '0', '1', '1']\n",
      "101001001011\n"
     ]
    }
   ],
   "source": [
    "# set some variables\n",
    "gamma_list = []\n",
    "length = np.arange(len(ls[0]))\n",
    "\n",
    "# iterate\n",
    "for pos in length:\n",
    "    zero_cnt = 0\n",
    "    one_cnt = 0\n",
    "    i = 0\n",
    "    for x in ls:\n",
    "        if ls[i][pos] == \"0\":\n",
    "            zero_cnt = zero_cnt+1\n",
    "        if ls[i][pos] == \"1\":\n",
    "            one_cnt = one_cnt+1\n",
    "        i+=1\n",
    "    if zero_cnt > one_cnt:\n",
    "        gamma_list.append(\"0\")\n",
    "    else:\n",
    "        gamma_list.append(\"1\")\n",
    "\n",
    "print(binary)"
   ]
  },
  {
   "cell_type": "code",
   "execution_count": null,
   "metadata": {},
   "outputs": [],
   "source": [
    "# smush the list and create the values\n",
    "gamma = int(\"\".join(binary))\n",
    "print(f'gamma binary {gamma})\n",
    "      \n",
    "# create the epsilon\n",
    "epsilon_list = []\n",
    "for g in gamma:\n",
    "      if g == \"1\":\n",
    "          epsilon_list.append(\"0\")\n",
    "      else:\n",
    "          epsilon_list.append(\"1\")]\n",
    "print(epsilon_list)\n",
    "epsilon = int(\"\".join(epsilon_list))\n",
    "print(f'episolon binary {epsilon})"
   ]
  }
 ],
 "metadata": {
  "kernelspec": {
   "display_name": "Python 3",
   "language": "python",
   "name": "python3"
  },
  "language_info": {
   "codemirror_mode": {
    "name": "ipython",
    "version": 3
   },
   "file_extension": ".py",
   "mimetype": "text/x-python",
   "name": "python",
   "nbconvert_exporter": "python",
   "pygments_lexer": "ipython3",
   "version": "3.8.5"
  }
 },
 "nbformat": 4,
 "nbformat_minor": 4
}
